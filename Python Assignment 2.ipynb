{
 "cells": [
  {
   "cell_type": "markdown",
   "metadata": {},
   "source": [
    "# Python Assignment 2"
   ]
  },
  {
   "cell_type": "markdown",
   "metadata": {},
   "source": [
    "1. Create the below pattern using nested for loop in Python.\n",
    "\n",
    "##### *\n",
    "##### * *\n",
    "##### * * *\n",
    "##### * * * *\n",
    "##### * * * * *\n",
    "##### * * * *\n",
    "##### * * *\n",
    "##### * *\n",
    "##### *"
   ]
  },
  {
   "cell_type": "code",
   "execution_count": 1,
   "metadata": {},
   "outputs": [
    {
     "name": "stdout",
     "output_type": "stream",
     "text": [
      "\n",
      "*\n",
      "**\n",
      "***\n",
      "****\n",
      "*****\n",
      "****\n",
      "***\n",
      "**\n",
      "*\n"
     ]
    }
   ],
   "source": [
    "c = 0\n",
    "for i in range(10):\n",
    "    if i <6:\n",
    "        c = c+1\n",
    "    else:\n",
    "        c = c-1\n",
    "    for y in range(c):\n",
    "        pass\n",
    "    print(y * '*')"
   ]
  },
  {
   "cell_type": "markdown",
   "metadata": {},
   "source": [
    "2. Write a Python program to reverse a word after accepting the input from the user."
   ]
  },
  {
   "cell_type": "code",
   "execution_count": 2,
   "metadata": {},
   "outputs": [
    {
     "name": "stdout",
     "output_type": "stream",
     "text": [
      "Enter your word :ineuron\n",
      "Reverse of the word ineuron is: norueni\n"
     ]
    }
   ],
   "source": [
    "word = input('Enter your word :')\n",
    "\n",
    "print('Reverse of the word', word ,'is:', word[ : : -1])"
   ]
  }
 ],
 "metadata": {
  "kernelspec": {
   "display_name": "Python 3",
   "language": "python",
   "name": "python3"
  },
  "language_info": {
   "codemirror_mode": {
    "name": "ipython",
    "version": 3
   },
   "file_extension": ".py",
   "mimetype": "text/x-python",
   "name": "python",
   "nbconvert_exporter": "python",
   "pygments_lexer": "ipython3",
   "version": "3.7.6"
  }
 },
 "nbformat": 4,
 "nbformat_minor": 4
}
