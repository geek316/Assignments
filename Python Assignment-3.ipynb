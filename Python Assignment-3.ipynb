{
 "cells": [
  {
   "cell_type": "markdown",
   "metadata": {},
   "source": [
    "# Python Assignment - 3"
   ]
  },
  {
   "cell_type": "markdown",
   "metadata": {},
   "source": [
    "### 1.1 Write a Python Program to implement your own myreduce() function which works exactly like Python's built-in function reduce()"
   ]
  },
  {
   "cell_type": "code",
   "execution_count": 1,
   "metadata": {},
   "outputs": [
    {
     "name": "stdout",
     "output_type": "stream",
     "text": [
      "Original Reduce Function Value : 45\n",
      "myreduce Function Value : 45\n"
     ]
    }
   ],
   "source": [
    "lst = [1,2,3,4,5,6,7,8,9,0]\n",
    "\n",
    "# Original Reduce Function()\n",
    "\n",
    "from functools import reduce\n",
    "print('Original Reduce Function Value :',reduce(lambda x,y: x+y, lst))\n",
    "\n",
    "\n",
    "# Creating own myReduce function()\n",
    "\n",
    "def my_reduce(function,var):\n",
    "    a = var[0]\n",
    "    if len(var) < 1:\n",
    "        return a\n",
    "    else:\n",
    "        for i in range(len(var)-1):\n",
    "            a = function(a,var[i+1])\n",
    "    return a\n",
    "\n",
    "print('myreduce Function Value :',my_reduce(lambda x,y: x+y,lst))"
   ]
  },
  {
   "cell_type": "markdown",
   "metadata": {},
   "source": [
    "### 1.2 Write a Python program to implement your own myfilter() function which works exactly like Python's built-in function filter()"
   ]
  },
  {
   "cell_type": "code",
   "execution_count": 2,
   "metadata": {},
   "outputs": [
    {
     "name": "stdout",
     "output_type": "stream",
     "text": [
      "Filter Function Value : [0, 2, 4, 6, 8, 10, 12, 14, 16, 18]\n",
      "myfilter Function Value : [0, 2, 4, 6, 8, 10, 12, 14, 16, 18]\n"
     ]
    }
   ],
   "source": [
    "lst = range(20)\n",
    "\n",
    "\n",
    "# Original Filter Function()\n",
    "\n",
    "print('Filter Function Value :', list(filter(lambda n: n%2==0,lst)))\n",
    "\n",
    "\n",
    "# Creating own myfilter function()\n",
    "\n",
    "def myfilter(func,val):\n",
    "    a = []\n",
    "    for i in range(len(val)-1):\n",
    "        if func(val[i]) == True:\n",
    "            a.append(val[i])\n",
    "    return a\n",
    "    \n",
    "print('myfilter Function Value :', myfilter(lambda n: n%2==0,lst))\n"
   ]
  },
  {
   "cell_type": "markdown",
   "metadata": {},
   "source": [
    "### 2. Implement List comprehensions to produce the following lists. <br><br> Write List comprehensions to produce the following Lists\n",
    "<br>\n",
    "\n",
    "####  1. ['x', 'xx', 'xxx', 'xxxx', 'y', 'yy', 'yyy', 'yyyy', 'z', 'zz', 'zzz', 'zzzz']"
   ]
  },
  {
   "cell_type": "code",
   "execution_count": 3,
   "metadata": {},
   "outputs": [
    {
     "name": "stdout",
     "output_type": "stream",
     "text": [
      "Normal Query - ['x', 'xx', 'xxx', 'xxxx', 'y', 'yy', 'yyy', 'yyyy', 'z', 'zz', 'zzz', 'zzzz']\n",
      "List Comprehension - ['x', 'xx', 'xxx', 'xxxx', 'y', 'yy', 'yyy', 'yyyy', 'z', 'zz', 'zzz', 'zzzz']\n"
     ]
    }
   ],
   "source": [
    "lst = ['x','y','z']\n",
    "\n",
    "def sequence(val):\n",
    "    new_val =[]\n",
    "    for i in val:\n",
    "        for j in range(1,5):\n",
    "            new_val.append(i*j)\n",
    "    return new_val\n",
    "\n",
    "\n",
    "print('Normal Query -',sequence(lst))\n",
    "\n",
    "\n",
    "# List Comprehension\n",
    "\n",
    "list_1 = [i*j for i in 'xyz' for j in range(1,5)]\n",
    "print('List Comprehension -',list_1)"
   ]
  },
  {
   "cell_type": "markdown",
   "metadata": {},
   "source": [
    "#### 2. ['x', 'y', 'z', 'xx', 'yy', 'zz', 'xxx', 'yyy', 'zzz', 'xxxx', 'yyyy', 'zzzz']"
   ]
  },
  {
   "cell_type": "code",
   "execution_count": 4,
   "metadata": {},
   "outputs": [
    {
     "name": "stdout",
     "output_type": "stream",
     "text": [
      "Normal Query - ['x', 'y', 'z', 'xx', 'yy', 'zz', 'xxx', 'yyy', 'zzz', 'xxxx', 'yyyy', 'zzzz']\n",
      "List Comprehension - ['x', 'y', 'z', 'xx', 'yy', 'zz', 'xxx', 'yyy', 'zzz', 'xxxx', 'yyyy', 'zzzz']\n"
     ]
    }
   ],
   "source": [
    "def sequence(val):\n",
    "    new_lst = []\n",
    "    a = 1\n",
    "    for i in val:\n",
    "        new_lst.append(i)\n",
    "    a = a + 1\n",
    "    for j in val:\n",
    "        new_lst.append(j*a)\n",
    "    a = a + 1\n",
    "    for k in val:\n",
    "        new_lst.append(k*a)\n",
    "    a = a + 1\n",
    "    for l in val:\n",
    "        new_lst.append(l*a)\n",
    "    return (new_lst)\n",
    "    \n",
    "\n",
    "print('Normal Query -',sequence(lst))\n",
    "\n",
    "\n",
    "# List Comprehension\n",
    "\n",
    "list_1 = [i*j for j in range(1,5) for i in 'xyz']\n",
    "print('List Comprehension -',list_1)"
   ]
  },
  {
   "cell_type": "markdown",
   "metadata": {},
   "source": [
    "#### 3. [[2], [3], [4], [3], [4], [5], [4], [5], [6]]"
   ]
  },
  {
   "cell_type": "code",
   "execution_count": 5,
   "metadata": {},
   "outputs": [
    {
     "name": "stdout",
     "output_type": "stream",
     "text": [
      "Normal Query - [[2], [3], [4], [3], [4], [5], [4], [5], [6]]\n",
      "List Comprehension - [[2], [3], [4], [3], [4], [5], [4], [5], [6]]\n"
     ]
    }
   ],
   "source": [
    "val_1=[]\n",
    "\n",
    "for i in range(2,6):\n",
    "    for j in range(i,i+3):\n",
    "        if i > 4:\n",
    "            break\n",
    "        val_1.append([j])\n",
    "        \n",
    "\n",
    "print('Normal Query -',(val_1))\n",
    "\n",
    "\n",
    "# List Comprehension\n",
    "\n",
    "list_1 = [[j] for i in range(2,6) for j in range(i,i+3) if i<5]\n",
    "print('List Comprehension -',list_1)\n"
   ]
  },
  {
   "cell_type": "markdown",
   "metadata": {},
   "source": [
    "#### 4. [[2, 3, 4, 5], [3, 4, 5, 6],[4, 5, 6, 7], [5, 6, 7, 8]]"
   ]
  },
  {
   "cell_type": "code",
   "execution_count": 35,
   "metadata": {},
   "outputs": [
    {
     "name": "stdout",
     "output_type": "stream",
     "text": [
      "Normal Query - [[2, 3, 4, 5], [3, 4, 5, 6], [4, 5, 6, 7], [5, 6, 7, 8]]\n",
      "List Comprehension - [[2, 3, 4, 5], [3, 4, 5, 6], [4, 5, 6, 7], [5, 6, 7, 8]]\n"
     ]
    }
   ],
   "source": [
    "def seq (x):\n",
    "    out_val = []\n",
    "    for i in range(x,x+4):\n",
    "        val = []\n",
    "        for j in range(i,i+4):\n",
    "            val.append(j)\n",
    "        out_val.append(val)\n",
    "    return out_val\n",
    "\n",
    "print('Normal Query -',seq(2))\n",
    "\n",
    "\n",
    "# List Comprehension\n",
    "\n",
    "list_1 = [x for x in seq(2)]\n",
    "print('List Comprehension -',list_1)"
   ]
  },
  {
   "cell_type": "markdown",
   "metadata": {},
   "source": [
    "#### 5. [(1, 1), (2, 1), (3, 1), (1, 2), (2, 2), (3, 2), (1, 3), (2, 3), (3, 3)]"
   ]
  },
  {
   "cell_type": "code",
   "execution_count": 53,
   "metadata": {},
   "outputs": [
    {
     "name": "stdout",
     "output_type": "stream",
     "text": [
      "Normal Query - [(1, 1), (2, 1), (3, 1), (1, 2), (2, 2), (3, 2), (1, 3), (2, 3), (3, 3)]\n",
      "List Comprehension - [(1, 1), (2, 1), (3, 1), (1, 2), (2, 2), (3, 2), (1, 3), (2, 3), (3, 3)]\n"
     ]
    }
   ],
   "source": [
    "def seq_1(x):\n",
    "    val=[]\n",
    "    for i in range(x,x+3):\n",
    "        for j in range(x,x+3):\n",
    "            val.append((j,i))   \n",
    "    return val\n",
    "\n",
    "print('Normal Query -',seq_1(1))\n",
    "\n",
    "\n",
    "# List Comprehension\n",
    "\n",
    "list_1 = [x for x in seq_1(1)]\n",
    "print('List Comprehension -',list_1)"
   ]
  }
 ],
 "metadata": {
  "kernelspec": {
   "display_name": "Python 3",
   "language": "python",
   "name": "python3"
  },
  "language_info": {
   "codemirror_mode": {
    "name": "ipython",
    "version": 3
   },
   "file_extension": ".py",
   "mimetype": "text/x-python",
   "name": "python",
   "nbconvert_exporter": "python",
   "pygments_lexer": "ipython3",
   "version": "3.8.3"
  }
 },
 "nbformat": 4,
 "nbformat_minor": 2
}
